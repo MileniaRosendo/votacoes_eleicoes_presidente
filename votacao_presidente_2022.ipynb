{
  "nbformat": 4,
  "nbformat_minor": 0,
  "metadata": {
    "colab": {
      "provenance": []
    },
    "kernelspec": {
      "name": "python3",
      "display_name": "Python 3"
    },
    "language_info": {
      "name": "python"
    }
  },
  "cells": [
    {
      "cell_type": "code",
      "execution_count": 12,
      "metadata": {
        "id": "oEhnWt3Xdeyo"
      },
      "outputs": [],
      "source": [
        "import pandas as pd\n",
        "import matplotlib.pyplot as plt"
      ]
    },
    {
      "cell_type": "code",
      "source": [
        "file_path = \"/content/Historico_Totalizacao_Presidente_BR_2T_2022.csv\"\n",
        "df = pd.read_csv(file_path, delimiter=';', encoding='latin1')\n",
        "df.head()\n",
        "df.info()"
      ],
      "metadata": {
        "colab": {
          "base_uri": "https://localhost:8080/"
        },
        "id": "lUvoev3rebvD",
        "outputId": "15c3f88c-f8d1-4fd0-9909-fe387efeb402"
      },
      "execution_count": 2,
      "outputs": [
        {
          "output_type": "stream",
          "name": "stdout",
          "text": [
            "<class 'pandas.core.frame.DataFrame'>\n",
            "RangeIndex: 5286 entries, 0 to 5285\n",
            "Data columns (total 28 columns):\n",
            " #   Column                                         Non-Null Count  Dtype \n",
            "---  ------                                         --------------  ----- \n",
            " 0    CD_PLEITO                                     5286 non-null   int64 \n",
            " 1   CD_ELEICAO                                     5286 non-null   int64 \n",
            " 2     CD_CARGO                                     5286 non-null   int64 \n",
            " 3   SG_UE_UF                                       5286 non-null   object\n",
            " 4   DT_TOTALIZACAO                                 5286 non-null   object\n",
            " 5   QT_SECOES_TOTAL                                5286 non-null   int64 \n",
            " 6   QT_APTOS_TOTAL                                 5286 non-null   int64 \n",
            " 7   QT_SECOES_TOT                                  5286 non-null   int64 \n",
            " 8   QT_SECOES_TOT_ACUMULADO                        5286 non-null   int64 \n",
            " 9   PE_SECOES_TOT_ACUMULADO                        5286 non-null   object\n",
            " 10  QT_APTOS_TOT                                   5286 non-null   int64 \n",
            " 11  QT_APTOS_TOT_ACUMULADO                         5286 non-null   int64 \n",
            " 12  QT_VOTOS_TOTAL                                 5286 non-null   int64 \n",
            " 13  QT_VOTOS_TOTAL_ACUMULADO                       5286 non-null   int64 \n",
            " 14  QT_VOTOS_CONCORRENTES                          5286 non-null   int64 \n",
            " 15  QT_VOTOS_CONCORRENTES_ACUMULADO                5286 non-null   int64 \n",
            " 16  LULA_QT_VOTOS_TOT                              5286 non-null   int64 \n",
            " 17  LULA_QT_VOTOS_TOT_ACUMULADO                    5286 non-null   int64 \n",
            " 18  LULA_PE_VOTOS_TOT_ACUMULADO                    5286 non-null   object\n",
            " 19  JAIR_BOLSONARO_QT_VOTOS_TOT                    5286 non-null   int64 \n",
            " 20  JAIR_BOLSONARO_QT_VOTOS_TOT_ACUMULADO          5286 non-null   int64 \n",
            " 21  JAIR_BOLSONARO_PE_VOTOS_TOT_ACUMULADO          5286 non-null   object\n",
            " 22  BRANCO_QT_VOTOS_TOT                            5286 non-null   int64 \n",
            " 23  BRANCO_QT_VOTOS_TOT_ACUMULADO                  5286 non-null   int64 \n",
            " 24  BRANCO_PE_VOTOS_TOT_ACUMULADO                  5286 non-null   object\n",
            " 25  NULO_QT_VOTOS_TOT                              5286 non-null   int64 \n",
            " 26  NULO_QT_VOTOS_TOT_ACUMULADO                    5286 non-null   int64 \n",
            " 27  NULO_PE_VOTOS_TOT_ACUMULADO                    5286 non-null   object\n",
            "dtypes: int64(21), object(7)\n",
            "memory usage: 1.1+ MB\n"
          ]
        }
      ]
    },
    {
      "cell_type": "markdown",
      "source": [
        "Removendo os espaços nos nomes das colunas"
      ],
      "metadata": {
        "id": "N-pwEJDCgq-S"
      }
    },
    {
      "cell_type": "code",
      "source": [
        "df.columns = df.columns.str.strip()"
      ],
      "metadata": {
        "id": "IEntoUb6ezWK"
      },
      "execution_count": 3,
      "outputs": []
    },
    {
      "cell_type": "code",
      "source": [
        "percent_cols = [\n",
        "    'PE_SECOES_TOT_ACUMULADO', 'LULA_PE_VOTOS_TOT_ACUMULADO',\n",
        "    'JAIR_BOLSONARO_PE_VOTOS_TOT_ACUMULADO', 'BRANCO_PE_VOTOS_TOT_ACUMULADO',\n",
        "    'NULO_PE_VOTOS_TOT_ACUMULADO'\n",
        "]\n",
        "#Convertendo string para float e substituíndo a vírgula por ponto\n",
        "for col in percent_cols:\n",
        "  df[col] = df[col].str.replace(',', '.').astype(float)"
      ],
      "metadata": {
        "id": "Eazsqu90gu-q"
      },
      "execution_count": 5,
      "outputs": []
    },
    {
      "cell_type": "code",
      "source": [
        "votos_estado = df.groupby('SG_UE_UF')[['LULA_QT_VOTOS_TOT', 'JAIR_BOLSONARO_QT_VOTOS_TOT']].sum()\n",
        "\n",
        "#calculando o percentual de votos para cada candidato por estado\n",
        "votos_estado['LULA_%'] = (votos_estado['LULA_QT_VOTOS_TOT'] / votos_estado.sum(axis=1)) * 100\n",
        "votos_estado['BOLSONARO_%'] = (votos_estado['JAIR_BOLSONARO_QT_VOTOS_TOT'] / votos_estado.sum(axis=1)) * 100\n",
        "\n",
        "# Exibir os resultados\n",
        "votos_estado.head()"
      ],
      "metadata": {
        "colab": {
          "base_uri": "https://localhost:8080/",
          "height": 161
        },
        "id": "kCOm07enhZUq",
        "outputId": "04d70f59-4328-41e0-b635-806491ca627a"
      },
      "execution_count": 7,
      "outputs": [
        {
          "output_type": "execute_result",
          "data": {
            "text/plain": [
              "          LULA_QT_VOTOS_TOT  JAIR_BOLSONARO_QT_VOTOS_TOT     LULA_%  \\\n",
              "SG_UE_UF                                                              \n",
              "BR                 60345999                     58206354  50.902405   \n",
              "\n",
              "          BOLSONARO_%  \n",
              "SG_UE_UF               \n",
              "BR          49.097574  "
            ],
            "text/html": [
              "\n",
              "  <div id=\"df-f084720d-a01b-4d90-b2f1-0212f64c5b98\" class=\"colab-df-container\">\n",
              "    <div>\n",
              "<style scoped>\n",
              "    .dataframe tbody tr th:only-of-type {\n",
              "        vertical-align: middle;\n",
              "    }\n",
              "\n",
              "    .dataframe tbody tr th {\n",
              "        vertical-align: top;\n",
              "    }\n",
              "\n",
              "    .dataframe thead th {\n",
              "        text-align: right;\n",
              "    }\n",
              "</style>\n",
              "<table border=\"1\" class=\"dataframe\">\n",
              "  <thead>\n",
              "    <tr style=\"text-align: right;\">\n",
              "      <th></th>\n",
              "      <th>LULA_QT_VOTOS_TOT</th>\n",
              "      <th>JAIR_BOLSONARO_QT_VOTOS_TOT</th>\n",
              "      <th>LULA_%</th>\n",
              "      <th>BOLSONARO_%</th>\n",
              "    </tr>\n",
              "    <tr>\n",
              "      <th>SG_UE_UF</th>\n",
              "      <th></th>\n",
              "      <th></th>\n",
              "      <th></th>\n",
              "      <th></th>\n",
              "    </tr>\n",
              "  </thead>\n",
              "  <tbody>\n",
              "    <tr>\n",
              "      <th>BR</th>\n",
              "      <td>60345999</td>\n",
              "      <td>58206354</td>\n",
              "      <td>50.902405</td>\n",
              "      <td>49.097574</td>\n",
              "    </tr>\n",
              "  </tbody>\n",
              "</table>\n",
              "</div>\n",
              "    <div class=\"colab-df-buttons\">\n",
              "\n",
              "  <div class=\"colab-df-container\">\n",
              "    <button class=\"colab-df-convert\" onclick=\"convertToInteractive('df-f084720d-a01b-4d90-b2f1-0212f64c5b98')\"\n",
              "            title=\"Convert this dataframe to an interactive table.\"\n",
              "            style=\"display:none;\">\n",
              "\n",
              "  <svg xmlns=\"http://www.w3.org/2000/svg\" height=\"24px\" viewBox=\"0 -960 960 960\">\n",
              "    <path d=\"M120-120v-720h720v720H120Zm60-500h600v-160H180v160Zm220 220h160v-160H400v160Zm0 220h160v-160H400v160ZM180-400h160v-160H180v160Zm440 0h160v-160H620v160ZM180-180h160v-160H180v160Zm440 0h160v-160H620v160Z\"/>\n",
              "  </svg>\n",
              "    </button>\n",
              "\n",
              "  <style>\n",
              "    .colab-df-container {\n",
              "      display:flex;\n",
              "      gap: 12px;\n",
              "    }\n",
              "\n",
              "    .colab-df-convert {\n",
              "      background-color: #E8F0FE;\n",
              "      border: none;\n",
              "      border-radius: 50%;\n",
              "      cursor: pointer;\n",
              "      display: none;\n",
              "      fill: #1967D2;\n",
              "      height: 32px;\n",
              "      padding: 0 0 0 0;\n",
              "      width: 32px;\n",
              "    }\n",
              "\n",
              "    .colab-df-convert:hover {\n",
              "      background-color: #E2EBFA;\n",
              "      box-shadow: 0px 1px 2px rgba(60, 64, 67, 0.3), 0px 1px 3px 1px rgba(60, 64, 67, 0.15);\n",
              "      fill: #174EA6;\n",
              "    }\n",
              "\n",
              "    .colab-df-buttons div {\n",
              "      margin-bottom: 4px;\n",
              "    }\n",
              "\n",
              "    [theme=dark] .colab-df-convert {\n",
              "      background-color: #3B4455;\n",
              "      fill: #D2E3FC;\n",
              "    }\n",
              "\n",
              "    [theme=dark] .colab-df-convert:hover {\n",
              "      background-color: #434B5C;\n",
              "      box-shadow: 0px 1px 3px 1px rgba(0, 0, 0, 0.15);\n",
              "      filter: drop-shadow(0px 1px 2px rgba(0, 0, 0, 0.3));\n",
              "      fill: #FFFFFF;\n",
              "    }\n",
              "  </style>\n",
              "\n",
              "    <script>\n",
              "      const buttonEl =\n",
              "        document.querySelector('#df-f084720d-a01b-4d90-b2f1-0212f64c5b98 button.colab-df-convert');\n",
              "      buttonEl.style.display =\n",
              "        google.colab.kernel.accessAllowed ? 'block' : 'none';\n",
              "\n",
              "      async function convertToInteractive(key) {\n",
              "        const element = document.querySelector('#df-f084720d-a01b-4d90-b2f1-0212f64c5b98');\n",
              "        const dataTable =\n",
              "          await google.colab.kernel.invokeFunction('convertToInteractive',\n",
              "                                                    [key], {});\n",
              "        if (!dataTable) return;\n",
              "\n",
              "        const docLinkHtml = 'Like what you see? Visit the ' +\n",
              "          '<a target=\"_blank\" href=https://colab.research.google.com/notebooks/data_table.ipynb>data table notebook</a>'\n",
              "          + ' to learn more about interactive tables.';\n",
              "        element.innerHTML = '';\n",
              "        dataTable['output_type'] = 'display_data';\n",
              "        await google.colab.output.renderOutput(dataTable, element);\n",
              "        const docLink = document.createElement('div');\n",
              "        docLink.innerHTML = docLinkHtml;\n",
              "        element.appendChild(docLink);\n",
              "      }\n",
              "    </script>\n",
              "  </div>\n",
              "\n",
              "\n",
              "    </div>\n",
              "  </div>\n"
            ],
            "application/vnd.google.colaboratory.intrinsic+json": {
              "type": "dataframe",
              "variable_name": "votos_estado",
              "summary": "{\n  \"name\": \"votos_estado\",\n  \"rows\": 1,\n  \"fields\": [\n    {\n      \"column\": \"SG_UE_UF\",\n      \"properties\": {\n        \"dtype\": \"string\",\n        \"num_unique_values\": 1,\n        \"samples\": [\n          \"BR      \"\n        ],\n        \"semantic_type\": \"\",\n        \"description\": \"\"\n      }\n    },\n    {\n      \"column\": \"LULA_QT_VOTOS_TOT\",\n      \"properties\": {\n        \"dtype\": \"number\",\n        \"std\": null,\n        \"min\": 60345999,\n        \"max\": 60345999,\n        \"num_unique_values\": 1,\n        \"samples\": [\n          60345999\n        ],\n        \"semantic_type\": \"\",\n        \"description\": \"\"\n      }\n    },\n    {\n      \"column\": \"JAIR_BOLSONARO_QT_VOTOS_TOT\",\n      \"properties\": {\n        \"dtype\": \"number\",\n        \"std\": null,\n        \"min\": 58206354,\n        \"max\": 58206354,\n        \"num_unique_values\": 1,\n        \"samples\": [\n          58206354\n        ],\n        \"semantic_type\": \"\",\n        \"description\": \"\"\n      }\n    },\n    {\n      \"column\": \"LULA_%\",\n      \"properties\": {\n        \"dtype\": \"number\",\n        \"std\": null,\n        \"min\": 50.90240511717216,\n        \"max\": 50.90240511717216,\n        \"num_unique_values\": 1,\n        \"samples\": [\n          50.90240511717216\n        ],\n        \"semantic_type\": \"\",\n        \"description\": \"\"\n      }\n    },\n    {\n      \"column\": \"BOLSONARO_%\",\n      \"properties\": {\n        \"dtype\": \"number\",\n        \"std\": null,\n        \"min\": 49.09757380197598,\n        \"max\": 49.09757380197598,\n        \"num_unique_values\": 1,\n        \"samples\": [\n          49.09757380197598\n        ],\n        \"semantic_type\": \"\",\n        \"description\": \"\"\n      }\n    }\n  ]\n}"
            }
          },
          "metadata": {},
          "execution_count": 7
        }
      ]
    },
    {
      "cell_type": "code",
      "source": [
        "# Resetar o índice para tornar 'SG_UE_UF' uma coluna normal\n",
        "votos_estado_reset = votos_estado.reset_index()\n",
        "\n",
        "# Plotar o gráfico de barras empilhadas com percentuais numéricos\n",
        "fig, ax = plt.subplots(figsize=(14, 8))\n",
        "votos_estado_reset.plot(\n",
        "    x='SG_UE_UF',\n",
        "    y=['LULA_%', 'BOLSONARO_%'],\n",
        "    kind='bar',\n",
        "    stacked=True,\n",
        "    color=['blue', 'red'],\n",
        "    ax=ax\n",
        ")\n",
        "\n",
        "# Título e rótulos dos eixos\n",
        "plt.title('Percentual de Votos por Candidato e por Estado')\n",
        "plt.ylabel('Percentual de Votos')\n",
        "plt.xlabel('Estado')\n",
        "\n",
        "# Adicionar rótulos numéricos para os percentuais\n",
        "for idx, row in votos_estado_reset.iterrows():\n",
        "    ax.text(idx, row['LULA_%'] / 2, f\"{row['LULA_%']:.1f}%\", color=\"white\", ha=\"center\", va=\"center\")\n",
        "    ax.text(idx, row['LULA_%'] + (row['BOLSONARO_%'] / 2), f\"{row['BOLSONARO_%']:.1f}%\", color=\"white\", ha=\"center\", va=\"center\")\n",
        "\n",
        "plt.show()"
      ],
      "metadata": {
        "colab": {
          "base_uri": "https://localhost:8080/",
          "height": 750
        },
        "id": "ZXdYgTKQh3NL",
        "outputId": "04d69e8c-b4f5-4f9c-9580-27566d6b112c"
      },
      "execution_count": 18,
      "outputs": [
        {
          "output_type": "display_data",
          "data": {
            "text/plain": [
              "<Figure size 1400x800 with 1 Axes>"
            ],
            "image/png": "[encoded data removed]"
          },
          "metadata": {}
        }
      ]
    },
    {
      "cell_type": "code",
      "source": [
        "print(votos_estado_reset.columns)"
      ],
      "metadata": {
        "colab": {
          "base_uri": "https://localhost:8080/"
        },
        "id": "ZhFrL3s9qLY0",
        "outputId": "e1ec883a-3366-4e72-a1a4-5bdafb79909c"
      },
      "execution_count": 17,
      "outputs": [
        {
          "output_type": "stream",
          "name": "stdout",
          "text": [
            "Index(['SG_UE_UF', 'LULA_QT_VOTOS_TOT', 'JAIR_BOLSONARO_QT_VOTOS_TOT',\n",
            "       'LULA_%', 'BOLSONARO_%'],\n",
            "      dtype='object')\n"
          ]
        }
      ]
    },
    {
      "cell_type": "code",
      "source": [
        "df_complementar_filtrado = df_complementar[\n",
        "    (df_complementar['NR_TURNO'] == 2) &\n",
        "    (df_complementar['DS_CARGO'] == 'Presidente')\n",
        "]\n",
        "\n",
        "# Agrupar por estado e somar os votos válidos e anulados\n",
        "votos_agrupados = df_complementar_filtrado.groupby('SG_UF').agg({\n",
        "    'QT_VOTOS_LEGENDA_VALIDOS': 'sum',\n",
        "    'QT_VOTOS_NOM_CONVR_LEG_VALIDOS': 'sum',\n",
        "    'QT_TOTAL_VOTOS_LEG_VALIDOS': 'sum',\n",
        "    'QT_VOTOS_NOMINAIS_VALIDOS': 'sum',\n",
        "    'QT_VOTOS_LEGENDA_ANUL_SUBJUD': 'sum',\n",
        "    'QT_VOTOS_NOMINAIS_ANUL_SUBJUD': 'sum'\n",
        "}).reset_index()\n",
        "\n",
        "# Calcular o total de votos válidos e anulados por estado\n",
        "votos_agrupados['VOTOS_VALIDOS'] = votos_agrupados['QT_TOTAL_VOTOS_LEG_VALIDOS']\n",
        "votos_agrupados['VOTOS_ANULADOS'] = (\n",
        "    votos_agrupados['QT_VOTOS_LEGENDA_ANUL_SUBJUD'] + votos_agrupados['QT_VOTOS_NOMINAIS_ANUL_SUBJUD']\n",
        ")\n",
        "\n",
        "# Calcular os percentuais de votos válidos e anulados\n",
        "votos_agrupados['PERCENTUAL_VALIDOS'] = (votos_agrupados['VOTOS_VALIDOS'] / votos_agrupados['VOTOS_VALIDOS'].sum()) * 100\n",
        "votos_agrupados['PERCENTUAL_ANULADOS'] = (votos_agrupados['VOTOS_ANULADOS'] / votos_agrupados['VOTOS_ANULADOS'].sum()) * 100\n",
        "\n",
        "# Exibir o DataFrame tratado\n",
        "print(votos_agrupados)"
      ],
      "metadata": {
        "colab": {
          "base_uri": "https://localhost:8080/"
        },
        "id": "cq0T_dkvq_TM",
        "outputId": "0b01bfb5-5309-4374-f11a-0b54f7700652"
      },
      "execution_count": 20,
      "outputs": [
        {
          "output_type": "stream",
          "name": "stdout",
          "text": [
            "   SG_UF  QT_VOTOS_LEGENDA_VALIDOS  QT_VOTOS_NOM_CONVR_LEG_VALIDOS  \\\n",
            "0     AC                         0                               0   \n",
            "1     AL                         0                               0   \n",
            "2     AM                         0                               0   \n",
            "3     AP                         0                               0   \n",
            "4     BA                         0                               0   \n",
            "5     CE                         0                               0   \n",
            "6     DF                         0                               0   \n",
            "7     ES                         0                               0   \n",
            "8     GO                         0                               0   \n",
            "9     MA                         0                               0   \n",
            "10    MG                         0                               0   \n",
            "11    MS                         0                               0   \n",
            "12    MT                         0                               0   \n",
            "13    PA                         0                               0   \n",
            "14    PB                         0                               0   \n",
            "15    PE                         0                               0   \n",
            "16    PI                         0                               0   \n",
            "17    PR                         0                               0   \n",
            "18    RJ                         0                               0   \n",
            "19    RN                         0                               0   \n",
            "20    RO                         0                               0   \n",
            "21    RR                         0                               0   \n",
            "22    RS                         0                               0   \n",
            "23    SC                         0                               0   \n",
            "24    SE                         0                               0   \n",
            "25    SP                         0                               0   \n",
            "26    TO                         0                               0   \n",
            "27    ZZ                         0                               0   \n",
            "\n",
            "    QT_TOTAL_VOTOS_LEG_VALIDOS  QT_VOTOS_NOMINAIS_VALIDOS  \\\n",
            "0                            0                     409316   \n",
            "1                            0                    1664658   \n",
            "2                            0                    1966732   \n",
            "3                            0                     390465   \n",
            "4                            0                    8454843   \n",
            "5                            0                    5442368   \n",
            "6                            0                    1770626   \n",
            "7                            0                    2208912   \n",
            "8                            0                    3735156   \n",
            "9                            0                    3751174   \n",
            "10                           0                   12332270   \n",
            "11                           0                    1480153   \n",
            "12                           0                    1869516   \n",
            "13                           0                    4582979   \n",
            "14                           0                    2404455   \n",
            "15                           0                    5439765   \n",
            "16                           0                    2018448   \n",
            "17                           0                    6665948   \n",
            "18                           0                    9560111   \n",
            "19                           0                    2038166   \n",
            "20                           0                     896140   \n",
            "21                           0                     280646   \n",
            "22                           0                    6625036   \n",
            "23                           0                    4399548   \n",
            "24                           0                    1284037   \n",
            "25                           0                   25736469   \n",
            "26                           0                     846247   \n",
            "27                           0                     298169   \n",
            "\n",
            "    QT_VOTOS_LEGENDA_ANUL_SUBJUD  QT_VOTOS_NOMINAIS_ANUL_SUBJUD  \\\n",
            "0                              0                              0   \n",
            "1                              0                              0   \n",
            "2                              0                              0   \n",
            "3                              0                              0   \n",
            "4                              0                              0   \n",
            "5                              0                              0   \n",
            "6                              0                              0   \n",
            "7                              0                              0   \n",
            "8                              0                              0   \n",
            "9                              0                              0   \n",
            "10                             0                              0   \n",
            "11                             0                              0   \n",
            "12                             0                              0   \n",
            "13                             0                              0   \n",
            "14                             0                              0   \n",
            "15                             0                              0   \n",
            "16                             0                              0   \n",
            "17                             0                              0   \n",
            "18                             0                              0   \n",
            "19                             0                              0   \n",
            "20                             0                              0   \n",
            "21                             0                              0   \n",
            "22                             0                              0   \n",
            "23                             0                              0   \n",
            "24                             0                              0   \n",
            "25                             0                              0   \n",
            "26                             0                              0   \n",
            "27                             0                              0   \n",
            "\n",
            "    VOTOS_VALIDOS  VOTOS_ANULADOS  PERCENTUAL_VALIDOS  PERCENTUAL_ANULADOS  \n",
            "0               0               0                 NaN                  NaN  \n",
            "1               0               0                 NaN                  NaN  \n",
            "2               0               0                 NaN                  NaN  \n",
            "3               0               0                 NaN                  NaN  \n",
            "4               0               0                 NaN                  NaN  \n",
            "5               0               0                 NaN                  NaN  \n",
            "6               0               0                 NaN                  NaN  \n",
            "7               0               0                 NaN                  NaN  \n",
            "8               0               0                 NaN                  NaN  \n",
            "9               0               0                 NaN                  NaN  \n",
            "10              0               0                 NaN                  NaN  \n",
            "11              0               0                 NaN                  NaN  \n",
            "12              0               0                 NaN                  NaN  \n",
            "13              0               0                 NaN                  NaN  \n",
            "14              0               0                 NaN                  NaN  \n",
            "15              0               0                 NaN                  NaN  \n",
            "16              0               0                 NaN                  NaN  \n",
            "17              0               0                 NaN                  NaN  \n",
            "18              0               0                 NaN                  NaN  \n",
            "19              0               0                 NaN                  NaN  \n",
            "20              0               0                 NaN                  NaN  \n",
            "21              0               0                 NaN                  NaN  \n",
            "22              0               0                 NaN                  NaN  \n",
            "23              0               0                 NaN                  NaN  \n",
            "24              0               0                 NaN                  NaN  \n",
            "25              0               0                 NaN                  NaN  \n",
            "26              0               0                 NaN                  NaN  \n",
            "27              0               0                 NaN                  NaN  \n"
          ]
        }
      ]
    }
  ]
}